{
  "nbformat": 4,
  "nbformat_minor": 0,
  "metadata": {
    "colab": {
      "provenance": [],
      "authorship_tag": "ABX9TyND0Vu+x34mZYFDIkm3iObU",
      "include_colab_link": true
    },
    "kernelspec": {
      "name": "python3",
      "display_name": "Python 3"
    },
    "language_info": {
      "name": "python"
    }
  },
  "cells": [
    {
      "cell_type": "markdown",
      "metadata": {
        "id": "view-in-github",
        "colab_type": "text"
      },
      "source": [
        "<a href=\"https://colab.research.google.com/github/Yung-Huei/Spatial_Statistics_Program_1/blob/main/Untitled0.ipynb\" target=\"_parent\"><img src=\"https://colab.research.google.com/assets/colab-badge.svg\" alt=\"Open In Colab\"/></a>"
      ]
    },
    {
      "cell_type": "code",
      "execution_count": null,
      "metadata": {
        "colab": {
          "base_uri": "https://localhost:8080/"
        },
        "id": "jaPTkmUKhcCH",
        "outputId": "625888db-fdcb-4cbd-c9d3-99e7fd44c14d"
      },
      "outputs": [
        {
          "output_type": "stream",
          "name": "stdout",
          "text": [
            "hello,world!\n"
          ]
        }
      ],
      "source": [
        "print('hello,world!')"
      ]
    },
    {
      "cell_type": "code",
      "source": [
        "def is_palindrome(num):\n",
        "    \"\"\"判斷一個數是不是迴文數\"\"\"\n",
        "    temp = num\n",
        "    total = 0\n",
        "    while temp > 0:\n",
        "        total = total * 10 + temp % 10\n",
        "        temp //= 10\n",
        "    return total == num\n",
        "\n",
        "def is_prime(num):\n",
        "    \"\"\"判斷一個數是不是素數\"\"\"\n",
        "    for factor in range(2, int(num ** 0.5) + 1):\n",
        "        if num % factor == 0:\n",
        "            return False\n",
        "    return True if num != 1 else False\n",
        "\n",
        "if __name__ == '__main__':\n",
        "    num = int(input('請輸入正整數: '))\n",
        "    if is_palindrome(num) and is_prime(num):\n",
        "        print('%d是迴文素數' % num)"
      ],
      "metadata": {
        "id": "1UgvSrlZie8l"
      },
      "execution_count": 1,
      "outputs": []
    }
  ]
}
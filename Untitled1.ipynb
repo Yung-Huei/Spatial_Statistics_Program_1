{
  "nbformat": 4,
  "nbformat_minor": 0,
  "metadata": {
    "colab": {
      "provenance": [],
      "mount_file_id": "1jfLMjFUr5cRYuR-Ov9sgTS0QU0YUjMfg",
      "authorship_tag": "ABX9TyMWtJgwrkiDFI+Cu6nKxvvj",
      "include_colab_link": true
    },
    "kernelspec": {
      "name": "python3",
      "display_name": "Python 3"
    },
    "language_info": {
      "name": "python"
    }
  },
  "cells": [
    {
      "cell_type": "markdown",
      "metadata": {
        "id": "view-in-github",
        "colab_type": "text"
      },
      "source": [
        "<a href=\"https://colab.research.google.com/github/Yung-Huei/Spatial_Statistics_Program_1/blob/main/Untitled1.ipynb\" target=\"_parent\"><img src=\"https://colab.research.google.com/assets/colab-badge.svg\" alt=\"Open In Colab\"/></a>"
      ]
    },
    {
      "cell_type": "code",
      "source": [
        "!git clone https://github.com/Yung-Huei/Spatial_Statistics_Program_1.git"
      ],
      "metadata": {
        "colab": {
          "base_uri": "https://localhost:8080/"
        },
        "id": "xKL1S2Cm8Bct",
        "outputId": "31fca234-65af-49a3-a2db-d634f40638f8"
      },
      "execution_count": 15,
      "outputs": [
        {
          "output_type": "stream",
          "name": "stdout",
          "text": [
            "Cloning into 'Spatial_Statistics_Program_1'...\n",
            "remote: Enumerating objects: 15, done.\u001b[K\n",
            "remote: Counting objects:   6% (1/15)\u001b[K\rremote: Counting objects:  13% (2/15)\u001b[K\rremote: Counting objects:  20% (3/15)\u001b[K\rremote: Counting objects:  26% (4/15)\u001b[K\rremote: Counting objects:  33% (5/15)\u001b[K\rremote: Counting objects:  40% (6/15)\u001b[K\rremote: Counting objects:  46% (7/15)\u001b[K\rremote: Counting objects:  53% (8/15)\u001b[K\rremote: Counting objects:  60% (9/15)\u001b[K\rremote: Counting objects:  66% (10/15)\u001b[K\rremote: Counting objects:  73% (11/15)\u001b[K\rremote: Counting objects:  80% (12/15)\u001b[K\rremote: Counting objects:  86% (13/15)\u001b[K\rremote: Counting objects:  93% (14/15)\u001b[K\rremote: Counting objects: 100% (15/15)\u001b[K\rremote: Counting objects: 100% (15/15), done.\u001b[K\n",
            "remote: Compressing objects:   7% (1/13)\u001b[K\rremote: Compressing objects:  15% (2/13)\u001b[K\rremote: Compressing objects:  23% (3/13)\u001b[K\rremote: Compressing objects:  30% (4/13)\u001b[K\rremote: Compressing objects:  38% (5/13)\u001b[K\rremote: Compressing objects:  46% (6/13)\u001b[K\rremote: Compressing objects:  53% (7/13)\u001b[K\rremote: Compressing objects:  61% (8/13)\u001b[K\rremote: Compressing objects:  69% (9/13)\u001b[K\rremote: Compressing objects:  76% (10/13)\u001b[K\rremote: Compressing objects:  84% (11/13)\u001b[K\rremote: Compressing objects:  92% (12/13)\u001b[K\rremote: Compressing objects: 100% (13/13)\u001b[K\rremote: Compressing objects: 100% (13/13), done.\u001b[K\n",
            "remote: Total 15 (delta 3), reused 2 (delta 0), pack-reused 0 (from 0)\u001b[K\n",
            "Receiving objects:   6% (1/15)\rReceiving objects:  13% (2/15)\rReceiving objects:  20% (3/15)\rReceiving objects:  26% (4/15)\rReceiving objects:  33% (5/15)\rReceiving objects:  40% (6/15)\rReceiving objects:  46% (7/15)\rReceiving objects:  53% (8/15)\rReceiving objects:  60% (9/15)\rReceiving objects:  66% (10/15)\rReceiving objects:  73% (11/15)\rReceiving objects:  80% (12/15)\rReceiving objects:  86% (13/15)\rReceiving objects:  93% (14/15)\rReceiving objects: 100% (15/15)\rReceiving objects: 100% (15/15), done.\n",
            "Resolving deltas:   0% (0/3)\rResolving deltas:  33% (1/3)\rResolving deltas:  66% (2/3)\rResolving deltas: 100% (3/3)\rResolving deltas: 100% (3/3), done.\n"
          ]
        }
      ]
    },
    {
      "cell_type": "code",
      "source": [
        "cd Spatial_Statistics_Program_1\n"
      ],
      "metadata": {
        "colab": {
          "base_uri": "https://localhost:8080/"
        },
        "id": "Nhkdz0lwVpDU",
        "outputId": "8c3e83b0-271e-45d4-9b3a-8995c3128947"
      },
      "execution_count": 16,
      "outputs": [
        {
          "output_type": "stream",
          "name": "stdout",
          "text": [
            "/content/Spatial_Statistics_Program_1\n"
          ]
        }
      ]
    },
    {
      "cell_type": "code",
      "source": [
        "!wget https://raw.githubusercontent.com/Yung-Huei/Spatial_Statistics_Program_1/main/Untitled0.ipynb"
      ],
      "metadata": {
        "colab": {
          "base_uri": "https://localhost:8080/"
        },
        "id": "4FByuMaQVwby",
        "outputId": "cda04cc4-1092-40eb-a57b-53a8f4dc1314"
      },
      "execution_count": 18,
      "outputs": [
        {
          "output_type": "stream",
          "name": "stdout",
          "text": [
            "--2025-02-13 17:25:14--  https://raw.githubusercontent.com/Yung-Huei/Spatial_Statistics_Program_1/main/Untitled0.ipynb\n",
            "Resolving raw.githubusercontent.com (raw.githubusercontent.com)... 185.199.110.133, 185.199.108.133, 185.199.109.133, ...\n",
            "Connecting to raw.githubusercontent.com (raw.githubusercontent.com)|185.199.110.133|:443... connected.\n",
            "HTTP request sent, awaiting response... 200 OK\n",
            "Length: 2259 (2.2K) [text/plain]\n",
            "Saving to: ‘Untitled0.ipynb.1’\n",
            "\n",
            "\rUntitled0.ipynb.1     0%[                    ]       0  --.-KB/s               \rUntitled0.ipynb.1   100%[===================>]   2.21K  --.-KB/s    in 0s      \n",
            "\n",
            "2025-02-13 17:25:14 (33.1 MB/s) - ‘Untitled0.ipynb.1’ saved [2259/2259]\n",
            "\n"
          ]
        }
      ]
    },
    {
      "cell_type": "code",
      "source": [
        "import os\n",
        "os.listdir()\n",
        "!pip install nbimporter\n",
        "import nbimporter\n",
        "!jupyter nbconvert --to python Untitled0.ipynb\n",
        "\n",
        "import Untitled0 # This should work after correcting the metadata in Untitled0.ipynb\n"
      ],
      "metadata": {
        "colab": {
          "base_uri": "https://localhost:8080/"
        },
        "id": "8dCbqObIWjdA",
        "outputId": "66da29ab-bc4d-45bf-ac57-8e894bc88cbb"
      },
      "execution_count": 29,
      "outputs": [
        {
          "output_type": "stream",
          "name": "stdout",
          "text": [
            "Requirement already satisfied: nbimporter in /usr/local/lib/python3.11/dist-packages (0.3.4)\n",
            "[NbConvertApp] Converting notebook Untitled0.ipynb to python\n",
            "[NbConvertApp] Writing 815 bytes to Untitled0.py\n",
            "hello,world!\n"
          ]
        }
      ]
    }
  ]
}